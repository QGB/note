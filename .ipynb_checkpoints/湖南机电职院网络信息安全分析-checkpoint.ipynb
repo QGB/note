{
 "cells": [
  {
   "cell_type": "markdown",
   "metadata": {},
   "source": [
    "http://hnjdzy.net 大部分站点使用捷瑞数字的 JRCMS V3.0 内容管理系统，该系统基于 Apache Struts2 框架开发，近年来，Struts2 框架先后披露出多个严重漏洞。包括2017年的远程代码执行的高危漏洞S2-045（CVE-2017-5638）,S2-046（CVE-2017-5638）,Struts2 S2-052 。  \n",
    "2018年8月22日披露的S2-057(CVE-2018-1177) 因为 admin.hnjdzy.net 服务器前端为 nginx，网页请求被其过滤，未深入测试其漏洞是否存在。"
   ]
  },
  {
   "cell_type": "markdown",
   "metadata": {},
   "source": [
    "http://admin.hnjdzy.net/test.jsp 疑似被挂马页面"
   ]
  },
  {
   "cell_type": "markdown",
   "metadata": {},
   "source": [
    "http://admin.hnjdzy.net/doc/  http://admin.hnjdzy.net/doc/down.jsp 开发页面配置不当"
   ]
  },
  {
   "cell_type": "markdown",
   "metadata": {},
   "source": [
    "http://admin.hnjdzy.net/login/admin.do 管理员登录页未启用验证码，存在爆破风险"
   ]
  },
  {
   "cell_type": "markdown",
   "metadata": {},
   "source": [
    "<textarea rows=17>['dqgc.hnjdzy.net',\n",
    " 'gjjl.hnjdzy.net',\n",
    " 'hnjdzy.net',\n",
    " 'jjmy.hnjdzy.net',\n",
    " 'jsjx.hnjdzy.net',\n",
    " 'jxgc.hnjdzy.net',\n",
    " 'jy.hnjdzy.net',\n",
    " 'm.hnjdzy.net',\n",
    " 'qcgc.hnjdzy.net',\n",
    " 'rwkx.hnjdzy.net',\n",
    " 'sz.hnjdzy.net',\n",
    " 'tsg.hnjdzy.net',\n",
    " 'tw.hnjdzy.net',\n",
    " 'www.hnjdzy.net',\n",
    " 'xxgc.hnjdzy.net',\n",
    " 'ygpt.hnjdzy.net',\n",
    " 'zs.hnjdzy.net']</textarea><br>\n",
    " 这17个子站均与主站处于同一ip的Windows主机，需要做好权限隔离，防范子站渗透带来安全风险\n",
    " 同ip下还有一个未启用的旁站域名 www.xjzclub.com。"
   ]
  },
  {
   "cell_type": "markdown",
   "metadata": {},
   "source": [
    "所有站点均未启用 https，通信链路上存在被劫持，篡改的风险。"
   ]
  },
  {
   "cell_type": "markdown",
   "metadata": {},
   "source": [
    " "
   ]
  },
  {
   "cell_type": "code",
   "execution_count": null,
   "metadata": {
    "collapsed": true,
    "hide_input": true
   },
   "outputs": [],
   "source": [
    "dip={ '119.10.30.153<br>\\u5317\\u4eac\\u65b0\\u7f51IDC': ['2fzhaojiu.hnjdzy.net', 'admin.hnjdzy.net', 'ag98182.yimai.mewww.hnjdzy.net', 'bbs.hnjdzy.net', 'c.hnjdzy.net', 'calss.hnjdzy.net', 'ceac.hnjdzy.net', 'cep.hnjdzy.net', 'ceshi.hnjdzy.net', 'chass.hnjdzy.net', 'ciass.hnjdzy.net', 'cjxy.hnjdzy.net', 'class.hnjdzy.net', 'cless.hnjdzy.net', 'cnc.hnjdzy.net', 'cwc.hnjdzy.net', 'downlown.hnjdzy.net', 'dqgc.hnjdzy.net', 'dqx.hnjdzy.net', 'film.hnjdzy.net', 'ftp.download.hnjdzy.net', 'ftp.dqx.hnjdzy.net', 'ftp.hnjdzy.net', 'ftp.jgsh.hnjdzy.net', 'ftp.tsg.hnjdzy.net', 'ftp.zixun.hnjdzy.net', 'gjjl.hnjdzy.net', 'hncj.hnjdzy.net', 'hnjdzy.net', 'imap.hnjdzy.net', 'jgsh.hnjdzy.net', 'jiaowu.hnjdzy.net', 'jiu.hnjdzy.net', 'jjy.hnjdzy.net', 'jp.hnjdzy.net', 'jpkc.hnjdzy.net', 'jsj1.hnjdzy.net', 'jwc.hnjdzy.net', 'jxgc.hnjdzy.net', 'jxjy.hnjdzy.net', 'jy.hnjdzy.net', 'l.hnjdzy.net', 'm.hnjdzy.net', 'mail.jgsh.hnjdzy.net', 'msgzs.hnjdzy.net', 'mx.hnjdzy.net', 'my.hnjdzy.net', 'net.hnjdzy.net', 'nttp.www.hnjdzy.net', 'pingjian.hnjdzy.net', 'qcgc.hnjdzy.net', 'rwkx.hnjdzy.net', 'sbzpqbqr.hnjdzy.net', 'school.hnjdzy.net', 'smtp.download.hnjdzy.net', 'smtp.hnjdzy.net', 'smtp.jgsh.hnjdzy.net', 'soft.c.hnjdzy.net', 'soft.hnjdzy.net', 'swhgx.hnjdzy.net', 'sz.hnjdzy.net', 'szb.hnjdzy.net', 'temp.hnjdzy.net', 'test.www.hnjdzy.net', 'tsg.hnjdzy.net', 'tw.hnjdzy.net', 'web_www.hnjdzy.net', 'webmail.hnjdzy.net', 'wp.www.hnjdzy.net', 'wushu.hnjdzy.net', 'ww.hnjdzy.net', 'ww.w.hnjdzy.net', 'www.beiyistar.www.hnjdzy.net', 'www.cjxy.hnjdzy.net', 'www.class.hnjdzy.net', 'www.cwc.hnjdzy.net', 'www.download.hnjdzy.net', 'www.dqx.hnjdzy.net', 'www.hnjdzy.net', 'www.my.hnjdzy.net', 'www.pingjian.hnjdzy.net', 'www.rwkx.hnjdzy.net', 'www.tsg.hnjdzy.net', 'www.xxgc.hnjdzy.net', 'www.zhaojiu.hnjdzy.net', 'www.zs.hnjdzy.net', 'wwwroot.hnjdzy.net', 'xbc.hnjdzy.net', 'xgb.hnjdzy.net', 'xxgc.hnjdzy.net', 'xzq.hnjdzy.net', 'ygpt.hnjdzy.net', 'yj.hnjdzy.net', 'zhaojiu.hnjdzy.net', 'zhaojiu.www.hnjdzy.net', 'zixun.hnjdzy.net', 'zs.hnjdzy.net', 'zypg.hnjdzy.net'],'222.240.227.28': ['cas.hnjdzy.net', 'jsj.hnjdzy.net', 'portal.hnjdzy.net', 'xqfx.hnjdzy.net'], '222.240.227.30': ['jw.hnjdzy.net'], '222.240.227.29': ['mail.hnjdzy.net'], '122.114.253.230<br>郑州景安IDC': ['jsjx.hnjdzy.net']}\n",
    "dget={'\\u767b\\u5f55\\u98752402': ['bbs.hnjdzy.net',\t  'c.hnjdzy.net',\t  'calss.hnjdzy.net',\t  'ceac.hnjdzy.net',\t  'cep.hnjdzy.net',\t  'ceshi.hnjdzy.net',\t  'chass.hnjdzy.net',\t  'ciass.hnjdzy.net',\t  'cjxy.hnjdzy.net',\t  'class.hnjdzy.net',\t  'cless.hnjdzy.net',\t  'cnc.hnjdzy.net',\t  'cwc.hnjdzy.net',\t  'downlown.hnjdzy.net',\t  'dqx.hnjdzy.net',\t  'film.hnjdzy.net',\t  'ftp.download.hnjdzy.net',\t  'ftp.dqx.hnjdzy.net',\t  'ftp.hnjdzy.net',\t  'ftp.jgsh.hnjdzy.net',\t  'ftp.tsg.hnjdzy.net',\t  'ftp.zixun.hnjdzy.net',\t  'hncj.hnjdzy.net',\t  'imap.hnjdzy.net',\t  'jgsh.hnjdzy.net',\t  'jiaowu.hnjdzy.net',\t  'jiu.hnjdzy.net',\t  'jjy.hnjdzy.net',\t  'jp.hnjdzy.net',\t  'jpkc.hnjdzy.net',\t  'jsj1.hnjdzy.net',\t  'jwc.hnjdzy.net',\t  'l.hnjdzy.net',\t  'mail.jgsh.hnjdzy.net',\t  'msgzs.hnjdzy.net',\t  'mx.hnjdzy.net',\t  'my.hnjdzy.net',\t  'net.hnjdzy.net',\t  'nttp.www.hnjdzy.net',\t  'pingjian.hnjdzy.net',\t  'sbzpqbqr.hnjdzy.net',\t  'school.hnjdzy.net',\t  'smtp.download.hnjdzy.net',\t  'smtp.hnjdzy.net',\t  'smtp.jgsh.hnjdzy.net',\t  'soft.c.hnjdzy.net',\t  'soft.hnjdzy.net',\t  'swhgx.hnjdzy.net',\t  'szb.hnjdzy.net',\t  'temp.hnjdzy.net',\t  'test.www.hnjdzy.net',\t  'webmail.hnjdzy.net',\t  'wp.www.hnjdzy.net',\t  'wushu.hnjdzy.net',\t  'ww.hnjdzy.net',\t  'ww.w.hnjdzy.net',\t  'www.cjxy.hnjdzy.net',\t  'www.class.hnjdzy.net',\t  'www.cwc.hnjdzy.net',\t  'www.download.hnjdzy.net',\t  'www.dqx.hnjdzy.net',\t  'www.my.hnjdzy.net',\t  'www.pingjian.hnjdzy.net',\t  'www.rwkx.hnjdzy.net',\t  'www.tsg.hnjdzy.net',\t  'www.xxgc.hnjdzy.net',\t  'www.zhaojiu.hnjdzy.net',\t  'www.zs.hnjdzy.net',\t  'wwwroot.hnjdzy.net',\t  'xbc.hnjdzy.net',\t  'xgb.hnjdzy.net',\t  'xzq.hnjdzy.net',\t  'yj.hnjdzy.net',\t  'zhaojiu.hnjdzy.net',\t  'zhaojiu.www.hnjdzy.net'],\t 2464: ['2fzhaojiu.hnjdzy.net',\t  'admin.hnjdzy.net',\t  'ag98182.yimai.mewww.hnjdzy.net',\t  'zixun.hnjdzy.net',\t  'zypg.hnjdzy.net'],\t 5480: ['gjjl.hnjdzy.net'],\t 10876: ['ygpt.hnjdzy.net'],\t 11982: ['zs.hnjdzy.net'],\t 15365: ['sz.hnjdzy.net'],\t 16917: ['tw.hnjdzy.net'],\t 18392: ['rwkx.hnjdzy.net'],\t 19613: ['jy.hnjdzy.net'],\t 19822: ['jxjy.hnjdzy.net'],\t 23800: ['dqgc.hnjdzy.net'],\t 26246: ['qcgc.hnjdzy.net'],\t 26734: ['xxgc.hnjdzy.net'],\t 29589: ['tsg.hnjdzy.net'],\t 31051: ['jxgc.hnjdzy.net'],\t 33877: ['hnjdzy.net', 'm.hnjdzy.net', 'www.hnjdzy.net']}\n",
    "lip=[]\n",
    "for i in dip:lip+=[i]*len(dip[i])\n",
    "lget=[]\n",
    "for i in dget:lget+=[str(i)]*len(dget[i])"
   ]
  },
  {
   "cell_type": "code",
   "execution_count": 57,
   "metadata": {
    "scrolled": false,
    "slideshow": {
     "slide_type": "slide"
    }
   },
   "outputs": [
    {
     "data": {
      "text/html": [
       "<iframe id=\"igraph\" scrolling=\"no\" style=\"border:none;\" seamless=\"seamless\" src=\"https://plot.ly/~QGB/65.embed\" height=\"525px\" width=\"100%\"></iframe>"
      ],
      "text/plain": [
       "<plotly.tools.PlotlyDisplay object>"
      ]
     },
     "execution_count": 57,
     "metadata": {},
     "output_type": "execute_result"
    }
   ],
   "source": [
    "import plotly.plotly as py\n",
    "import plotly.graph_objs as go\n",
    "import numpy as np\n",
    "layout = go.Layout(\n",
    "    title='子站IP分布',\n",
    "    xaxis=dict(\n",
    "    )\n",
    ")\n",
    "data=[go.Histogram(x=lip)]\n",
    "fig = go.Figure(data=data, layout=layout)\n",
    "# data = py.get_figure('https://plot.ly/~QGB/27/', raw=True)\n",
    "py.iplot(fig)  "
   ]
  },
  {
   "cell_type": "code",
   "execution_count": 58,
   "metadata": {
    "scrolled": false
   },
   "outputs": [
    {
     "data": {
      "text/html": [
       "<iframe id=\"igraph\" scrolling=\"no\" style=\"border:none;\" seamless=\"seamless\" src=\"https://plot.ly/~QGB/67.embed\" height=\"525px\" width=\"100%\"></iframe>"
      ],
      "text/plain": [
       "<plotly.tools.PlotlyDisplay object>"
      ]
     },
     "execution_count": 58,
     "metadata": {},
     "output_type": "execute_result"
    }
   ],
   "source": [
    "import plotly.plotly as py\n",
    "import plotly.graph_objs as go\n",
    "import numpy as np\n",
    "layout = go.Layout(\n",
    "    title='子站页面分布',\n",
    "    xaxis=dict(\n",
    "        showticklabels=True,        \n",
    "    )\n",
    ")\n",
    "data=[go.Histogram(x=lget)]\n",
    "fig = go.Figure(data=data, layout=layout)\n",
    "# data = py.get_figure('https://plot.ly/~QGB/27/', raw=True)\n",
    "py.iplot(fig) "
   ]
  },
  {
   "cell_type": "code",
   "execution_count": 52,
   "metadata": {
    "code_folding": [],
    "hide_input": true,
    "slideshow": {
     "slide_type": "skip"
    }
   },
   "outputs": [
    {
     "name": "stdout",
     "output_type": "stream",
     "text": [
      "<requests.auth.HTTPBasicAuth object at 0x000000000B309CF8>\n",
      "Done 2018-08-29__12.13.05__.444\n"
     ]
    }
   ],
   "source": [
    "import sys;'qgb.U' in sys.modules or sys.path.append('G:/QGB/babun/cygwin/lib/python2.7/');from qgb import *\n",
    "import plotly\n",
    "import plotly.plotly as py\n",
    "\n",
    "import json\n",
    "import requests\n",
    "from requests.auth import HTTPBasicAuth\n",
    "\n",
    "username = 'QGB' # Replace with YOUR USERNAME\n",
    "api_key = F.read('~/.plotly/.credentials')\n",
    "api_key = T.sub(api_key,'api_key\": \"' ,'\"') # Replace with YOUR API KEY\n",
    "\n",
    "auth = HTTPBasicAuth(username, api_key)\n",
    "print(auth)\n",
    "headers = {'Plotly-Client-Platform': 'python'}\n",
    "\n",
    "plotly.tools.set_credentials_file(username=username, api_key=api_key)\n",
    "\n",
    "def get_pages(username, page_size):\n",
    "    url = 'https://api.plot.ly/v2/folders/all?user='+username+'&page_size='+str(page_size)\n",
    "    response = requests.get(url, auth=auth, headers=headers)\n",
    "    if response.status_code != 200:\n",
    "        return\n",
    "    page = json.loads(response.content)\n",
    "    yield page\n",
    "    while True:\n",
    "        resource = page['children']['next'] \n",
    "        if not resource:\n",
    "            break\n",
    "        response = requests.get(resource, auth=auth, headers=headers)\n",
    "        if response.status_code != 200:\n",
    "            break\n",
    "        page = json.loads(response.content)\n",
    "        yield page\n",
    "        \n",
    "def permanently_delete_files(username, page_size=500, filetype_to_delete='plot'):\n",
    "    for page in get_pages(username, page_size):\n",
    "        for x in range(0, len(page['children']['results'])):\n",
    "            fid = page['children']['results'][x]['fid']\n",
    "            res = requests.get('https://api.plot.ly/v2/files/' + fid, auth=auth, headers=headers)\n",
    "            res.raise_for_status()\n",
    "            if res.status_code == 200:\n",
    "                json_res = json.loads(res.content)\n",
    "                if json_res['filetype'] == filetype_to_delete:\n",
    "                    print( 'move to trash fid:',fid)\n",
    "                    requests.post('https://api.plot.ly/v2/files/'+fid+'/trash', auth=auth, headers=headers)\n",
    "                    # permanently delete\n",
    "                   # requests.delete('https://api.plot.ly/v2/files/'+fid+'/permanent_delete', auth=auth, headers=headers)\n",
    "\n",
    "permanently_delete_files(username, filetype_to_delete='plot')\n",
    "permanently_delete_files(username, filetype_to_delete='grid')\n",
    "print('Done',U.stime())"
   ]
  },
  {
   "cell_type": "code",
   "execution_count": null,
   "metadata": {
    "collapsed": true
   },
   "outputs": [],
   "source": []
  },
  {
   "cell_type": "code",
   "execution_count": null,
   "metadata": {
    "collapsed": true,
    "hide_input": true
   },
   "outputs": [],
   "source": [
    "import plotly.plotly as py\n",
    "import plotly.graph_objs as go\n",
    "\n",
    "fig = py.get_figure('https://plot.ly/~Dreamshot/8152/', raw=True)\n",
    "fig['layout']['yaxis']['tickangle'] = 0\n",
    "fig = go.Figure(fig)\n",
    "\n",
    "fig.layout.images = [dict(\n",
    "        source=\"https://raw.githubusercontent.com/cldougl/plot_images/add_r_img/accuweather.jpeg\",\n",
    "        xref=\"paper\", yref=\"paper\",\n",
    "        x=0.1, y=1.05,\n",
    "        sizex=0.4, sizey=0.4,\n",
    "        xanchor=\"center\", yanchor=\"bottom\"\n",
    "      )]\n",
    "\n",
    "py.iplot(fig)\n"
   ]
  }
 ],
 "metadata": {
  "kernelspec": {
   "display_name": "Python 3",
   "language": "python",
   "name": "python3"
  },
  "language_info": {
   "codemirror_mode": {
    "name": "ipython",
    "version": 3
   },
   "file_extension": ".py",
   "mimetype": "text/x-python",
   "name": "python",
   "nbconvert_exporter": "python",
   "pygments_lexer": "ipython3",
   "version": "3.6.3"
  }
 },
 "nbformat": 4,
 "nbformat_minor": 2
}
