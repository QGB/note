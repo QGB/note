{
 "cells": [
  {
   "cell_type": "code",
   "execution_count": 10,
   "metadata": {
    "scrolled": false
   },
   "outputs": [
    {
     "data": {
      "text/html": [
       "<iframe id=\"igraph\" scrolling=\"no\" style=\"border:none;\" seamless=\"seamless\" src=\"https://plot.ly/~QGB/27.embed\" height=\"525px\" width=\"100%\"></iframe>"
      ],
      "text/plain": [
       "<plotly.tools.PlotlyDisplay object>"
      ]
     },
     "execution_count": 10,
     "metadata": {},
     "output_type": "execute_result"
    }
   ],
   "source": [
    "import plotly.plotly as py\n",
    "import plotly.graph_objs as go\n",
    "\n",
    "import numpy as np\n",
    "\n",
    "\n",
    "\n",
    "data=[go.Histogram(x=['a','a','b','c','c','c'] ,y=[1,2,4])]\n",
    "\n",
    "py.iplot(data)  #测试"
   ]
  },
  {
   "cell_type": "code",
   "execution_count": 4,
   "metadata": {},
   "outputs": [
    {
     "data": {
      "text/plain": [
       "dict_keys(['222.240.227.28', '119.10.30.153', '222.240.227.30', '122.114.253.230', '222.240.227.29'])"
      ]
     },
     "execution_count": 4,
     "metadata": {},
     "output_type": "execute_result"
    }
   ],
   "source": [
    "fip={i:len(dip[i]) for i in dip }\n",
    "\n",
    "dip.keys()\n"
   ]
  },
  {
   "cell_type": "code",
   "execution_count": null,
   "metadata": {
    "collapsed": true
   },
   "outputs": [],
   "source": [
    "py.get_figure('chris', 1638)"
   ]
  },
  {
   "cell_type": "code",
   "execution_count": null,
   "metadata": {
    "collapsed": true
   },
   "outputs": [],
   "source": [
    "import plotly.plotly as py\n",
    "import plotly.graph_objs as go\n",
    "\n",
    "fig = py.get_figure('https://plot.ly/~Dreamshot/8152/', raw=True)\n",
    "fig['layout']['yaxis']['tickangle'] = 0\n",
    "fig = go.Figure(fig)\n",
    "\n",
    "fig.layout.images = [dict(\n",
    "        source=\"https://raw.githubusercontent.com/cldougl/plot_images/add_r_img/accuweather.jpeg\",\n",
    "        xref=\"paper\", yref=\"paper\",\n",
    "        x=0.1, y=1.05,\n",
    "        sizex=0.4, sizey=0.4,\n",
    "        xanchor=\"center\", yanchor=\"bottom\"\n",
    "      )]\n",
    "\n",
    "py.iplot(fig)\n"
   ]
  },
  {
   "cell_type": "code",
   "execution_count": null,
   "metadata": {
    "collapsed": true
   },
   "outputs": [],
   "source": []
  },
  {
   "cell_type": "code",
   "execution_count": null,
   "metadata": {
    "collapsed": true
   },
   "outputs": [],
   "source": []
  },
  {
   "cell_type": "code",
   "execution_count": 3,
   "metadata": {
    "collapsed": true
   },
   "outputs": [],
   "source": [
    "dip={'222.240.227.28': ['cas.hnjdzy.net', 'jsj.hnjdzy.net', 'portal.hnjdzy.net', 'xqfx.hnjdzy.net'], '119.10.30.153': ['2fzhaojiu.hnjdzy.net', 'admin.hnjdzy.net', 'ag98182.yimai.mewww.hnjdzy.net', 'bbs.hnjdzy.net', 'c.hnjdzy.net', 'calss.hnjdzy.net', 'ceac.hnjdzy.net', 'cep.hnjdzy.net', 'ceshi.hnjdzy.net', 'chass.hnjdzy.net', 'ciass.hnjdzy.net', 'cjxy.hnjdzy.net', 'class.hnjdzy.net', 'cless.hnjdzy.net', 'cnc.hnjdzy.net', 'cwc.hnjdzy.net', 'downlown.hnjdzy.net', 'dqgc.hnjdzy.net', 'dqx.hnjdzy.net', 'film.hnjdzy.net', 'ftp.download.hnjdzy.net', 'ftp.dqx.hnjdzy.net', 'ftp.hnjdzy.net', 'ftp.jgsh.hnjdzy.net', 'ftp.tsg.hnjdzy.net', 'ftp.zixun.hnjdzy.net', 'gjjl.hnjdzy.net', 'hncj.hnjdzy.net', 'hnjdzy.net', 'imap.hnjdzy.net', 'jgsh.hnjdzy.net', 'jiaowu.hnjdzy.net', 'jiu.hnjdzy.net', 'jjy.hnjdzy.net', 'jp.hnjdzy.net', 'jpkc.hnjdzy.net', 'jsj1.hnjdzy.net', 'jwc.hnjdzy.net', 'jxgc.hnjdzy.net', 'jxjy.hnjdzy.net', 'jy.hnjdzy.net', 'l.hnjdzy.net', 'm.hnjdzy.net', 'mail.jgsh.hnjdzy.net', 'msgzs.hnjdzy.net', 'mx.hnjdzy.net', 'my.hnjdzy.net', 'net.hnjdzy.net', 'nttp.www.hnjdzy.net', 'pingjian.hnjdzy.net', 'qcgc.hnjdzy.net', 'rwkx.hnjdzy.net', 'sbzpqbqr.hnjdzy.net', 'school.hnjdzy.net', 'smtp.download.hnjdzy.net', 'smtp.hnjdzy.net', 'smtp.jgsh.hnjdzy.net', 'soft.c.hnjdzy.net', 'soft.hnjdzy.net', 'swhgx.hnjdzy.net', 'sz.hnjdzy.net', 'szb.hnjdzy.net', 'temp.hnjdzy.net', 'test.www.hnjdzy.net', 'tsg.hnjdzy.net', 'tw.hnjdzy.net', 'web_www.hnjdzy.net', 'webmail.hnjdzy.net', 'wp.www.hnjdzy.net', 'wushu.hnjdzy.net', 'ww.hnjdzy.net', 'ww.w.hnjdzy.net', 'www.beiyistar.www.hnjdzy.net', 'www.cjxy.hnjdzy.net', 'www.class.hnjdzy.net', 'www.cwc.hnjdzy.net', 'www.download.hnjdzy.net', 'www.dqx.hnjdzy.net', 'www.hnjdzy.net', 'www.my.hnjdzy.net', 'www.pingjian.hnjdzy.net', 'www.rwkx.hnjdzy.net', 'www.tsg.hnjdzy.net', 'www.xxgc.hnjdzy.net', 'www.zhaojiu.hnjdzy.net', 'www.zs.hnjdzy.net', 'wwwroot.hnjdzy.net', 'xbc.hnjdzy.net', 'xgb.hnjdzy.net', 'xxgc.hnjdzy.net', 'xzq.hnjdzy.net', 'ygpt.hnjdzy.net', 'yj.hnjdzy.net', 'zhaojiu.hnjdzy.net', 'zhaojiu.www.hnjdzy.net', 'zixun.hnjdzy.net', 'zs.hnjdzy.net', 'zypg.hnjdzy.net'], '222.240.227.30': ['jw.hnjdzy.net'], '122.114.253.230': ['jsjx.hnjdzy.net'], '222.240.227.29': ['mail.hnjdzy.net']}\n",
    "dget={2402: ['bbs.hnjdzy.net',\n",
    "  'c.hnjdzy.net',\n",
    "  'calss.hnjdzy.net',\n",
    "  'ceac.hnjdzy.net',\n",
    "  'cep.hnjdzy.net',\n",
    "  'ceshi.hnjdzy.net',\n",
    "  'chass.hnjdzy.net',\n",
    "  'ciass.hnjdzy.net',\n",
    "  'cjxy.hnjdzy.net',\n",
    "  'class.hnjdzy.net',\n",
    "  'cless.hnjdzy.net',\n",
    "  'cnc.hnjdzy.net',\n",
    "  'cwc.hnjdzy.net',\n",
    "  'downlown.hnjdzy.net',\n",
    "  'dqx.hnjdzy.net',\n",
    "  'film.hnjdzy.net',\n",
    "  'ftp.download.hnjdzy.net',\n",
    "  'ftp.dqx.hnjdzy.net',\n",
    "  'ftp.hnjdzy.net',\n",
    "  'ftp.jgsh.hnjdzy.net',\n",
    "  'ftp.tsg.hnjdzy.net',\n",
    "  'ftp.zixun.hnjdzy.net',\n",
    "  'hncj.hnjdzy.net',\n",
    "  'imap.hnjdzy.net',\n",
    "  'jgsh.hnjdzy.net',\n",
    "  'jiaowu.hnjdzy.net',\n",
    "  'jiu.hnjdzy.net',\n",
    "  'jjy.hnjdzy.net',\n",
    "  'jp.hnjdzy.net',\n",
    "  'jpkc.hnjdzy.net',\n",
    "  'jsj1.hnjdzy.net',\n",
    "  'jwc.hnjdzy.net',\n",
    "  'l.hnjdzy.net',\n",
    "  'mail.jgsh.hnjdzy.net',\n",
    "  'msgzs.hnjdzy.net',\n",
    "  'mx.hnjdzy.net',\n",
    "  'my.hnjdzy.net',\n",
    "  'net.hnjdzy.net',\n",
    "  'nttp.www.hnjdzy.net',\n",
    "  'pingjian.hnjdzy.net',\n",
    "  'sbzpqbqr.hnjdzy.net',\n",
    "  'school.hnjdzy.net',\n",
    "  'smtp.download.hnjdzy.net',\n",
    "  'smtp.hnjdzy.net',\n",
    "  'smtp.jgsh.hnjdzy.net',\n",
    "  'soft.c.hnjdzy.net',\n",
    "  'soft.hnjdzy.net',\n",
    "  'swhgx.hnjdzy.net',\n",
    "  'szb.hnjdzy.net',\n",
    "  'temp.hnjdzy.net',\n",
    "  'test.www.hnjdzy.net',\n",
    "  'webmail.hnjdzy.net',\n",
    "  'wp.www.hnjdzy.net',\n",
    "  'wushu.hnjdzy.net',\n",
    "  'ww.hnjdzy.net',\n",
    "  'ww.w.hnjdzy.net',\n",
    "  'www.cjxy.hnjdzy.net',\n",
    "  'www.class.hnjdzy.net',\n",
    "  'www.cwc.hnjdzy.net',\n",
    "  'www.download.hnjdzy.net',\n",
    "  'www.dqx.hnjdzy.net',\n",
    "  'www.my.hnjdzy.net',\n",
    "  'www.pingjian.hnjdzy.net',\n",
    "  'www.rwkx.hnjdzy.net',\n",
    "  'www.tsg.hnjdzy.net',\n",
    "  'www.xxgc.hnjdzy.net',\n",
    "  'www.zhaojiu.hnjdzy.net',\n",
    "  'www.zs.hnjdzy.net',\n",
    "  'wwwroot.hnjdzy.net',\n",
    "  'xbc.hnjdzy.net',\n",
    "  'xgb.hnjdzy.net',\n",
    "  'xzq.hnjdzy.net',\n",
    "  'yj.hnjdzy.net',\n",
    "  'zhaojiu.hnjdzy.net',\n",
    "  'zhaojiu.www.hnjdzy.net'],\n",
    " 2464: ['2fzhaojiu.hnjdzy.net',\n",
    "  'admin.hnjdzy.net',\n",
    "  'ag98182.yimai.mewww.hnjdzy.net',\n",
    "  'zixun.hnjdzy.net',\n",
    "  'zypg.hnjdzy.net'],\n",
    " 5480: ['gjjl.hnjdzy.net'],\n",
    " 10876: ['ygpt.hnjdzy.net'],\n",
    " 11982: ['zs.hnjdzy.net'],\n",
    " 15365: ['sz.hnjdzy.net'],\n",
    " 16917: ['tw.hnjdzy.net'],\n",
    " 18392: ['rwkx.hnjdzy.net'],\n",
    " 19613: ['jy.hnjdzy.net'],\n",
    " 19822: ['jxjy.hnjdzy.net'],\n",
    " 23800: ['dqgc.hnjdzy.net'],\n",
    " 26246: ['qcgc.hnjdzy.net'],\n",
    " 26734: ['xxgc.hnjdzy.net'],\n",
    " 29589: ['tsg.hnjdzy.net'],\n",
    " 31051: ['jxgc.hnjdzy.net'],\n",
    " 33877: ['hnjdzy.net', 'm.hnjdzy.net', 'www.hnjdzy.net']}\n"
   ]
  }
 ],
 "metadata": {
  "kernelspec": {
   "display_name": "Python 3",
   "language": "python",
   "name": "python3"
  },
  "language_info": {
   "codemirror_mode": {
    "name": "ipython",
    "version": 3
   },
   "file_extension": ".py",
   "mimetype": "text/x-python",
   "name": "python",
   "nbconvert_exporter": "python",
   "pygments_lexer": "ipython3",
   "version": "3.6.3"
  }
 },
 "nbformat": 4,
 "nbformat_minor": 2
}
