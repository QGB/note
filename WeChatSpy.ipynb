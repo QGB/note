{
 "cells": [
  {
   "cell_type": "code",
   "execution_count": 1,
   "metadata": {},
   "outputs": [
    {
     "name": "stdout",
     "output_type": "stream",
     "text": [
      "py:3.63 ipy:6.1 at[2018-09-03 12:04:45.627] C:/test/ipy/\n"
     ]
    }
   ],
   "source": [
    "import sys;'qgb.U' in sys.modules or sys.path.append('G:/QGB/babun/cygwin/lib/python2.7/');from qgb import *"
   ]
  },
  {
   "cell_type": "raw",
   "metadata": {},
   "source": [
    "微信（QQ）监控群消息\n",
    "1.微信机器人\n",
    "2.安装第三方app（需要ROOT权限），直接截获微信消息。windows 或 mac 版可能更容易实现。\n",
    "3.通信链路（局域网）上监控，需要逆向微信协议，需要安装自定义根证书用于解密。而且可能因微信版本更新不稳定\n"
   ]
  },
  {
   "cell_type": "raw",
   "metadata": {},
   "source": [
    "#微信机器人\n",
    "1.现有第三方python微信接口 itchat ，Go语言版 https://github.com/songtianyi/wechat-go  等，都是基于微信web登录。   \n",
    "     如果过度使用，可能会被腾讯封网页版微信的接口（无法登录网页版微信，机器人自然也不能使用）。严重的甚至直接封号（可以通过申诉找回）\n",
    "     是不是只有滥发消息才算过度使用？ 而接受消息不算？\n",
    "        \t  SPACELAN   349 天前   老帐号频繁使用 web api 收发群消息也会被封\n",
    "              \n",
    "2.现有微信机器人服务公司。紫豆助手 http://www.zidouchat.com  微友助手 http://deepvision.ai 等 是如何解决封号问题的？\n",
    "    微友助手  扫描二维码登录ipad微信 。\n",
    "    \n",
    "    紫豆助手  模拟正常使用帐号。\n",
    "    \n",
    "    真人使用的微信号，应该是聊天、发朋友圈、看新闻、发红包、群聊、使用钱包等，这些动作都影响着微信号安全使用的权重。\n",
    "    这些权重，会组成一个公式，如果某个微信号，某一项权重，超出了正常的比例，就容易被封\n",
    "\n",
    "3.监控帐号来源：是由用户提供  还是 开发者提供 ?\n",
    "\n",
    "\n",
    "bpascal/TARS  基于iPad版协议的微信个人账号服务工具 待测试\n"
   ]
  },
  {
   "cell_type": "raw",
   "metadata": {},
   "source": []
  },
  {
   "cell_type": "raw",
   "metadata": {},
   "source": [
    "#系统级消息截获\n",
    "1 Android系统 安装第三方app（需要ROOT权限） ， Xposed注入方式也有封号风险，但是可以禁止微信读取应用列表规避 ，或可以使用更加底层的方式。\n",
    "    （如何看待微信检测到Xposed框架后封号？https://www.zhihu.com/question/281167427/）\n",
    "    \n",
    "2. mac 版  微信助手 https://github.com/TKkk-iOSer/WeChatPlugin-MacOS\n",
    "\n",
    "3.windows  \n",
    "\n",
    "    https://github.com/xalley/wechat-db-decrypt 解密微信本地消息 ，但是没有全自动化，还需要借助ida-pro 手动操作一下\n"
   ]
  },
  {
   "cell_type": "raw",
   "metadata": {},
   "source": []
  },
  {
   "cell_type": "raw",
   "metadata": {},
   "source": []
  }
 ],
 "metadata": {
  "kernelspec": {
   "display_name": "Python 3",
   "language": "python",
   "name": "python3"
  },
  "language_info": {
   "codemirror_mode": {
    "name": "ipython",
    "version": 3
   },
   "file_extension": ".py",
   "mimetype": "text/x-python",
   "name": "python",
   "nbconvert_exporter": "python",
   "pygments_lexer": "ipython3",
   "version": "3.6.3"
  }
 },
 "nbformat": 4,
 "nbformat_minor": 2
}
